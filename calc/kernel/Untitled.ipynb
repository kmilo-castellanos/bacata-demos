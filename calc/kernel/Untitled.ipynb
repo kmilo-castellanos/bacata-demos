{
 "cells": [
  {
   "cell_type": "code",
   "execution_count": 1,
   "metadata": {},
   "outputs": [
    {
     "data": {
      "text/html": [
       "<div>1</div>"
      ]
     },
     "execution_count": 1,
     "metadata": {},
     "output_type": "execute_result"
    }
   ],
   "source": [
    "c = 1"
   ]
  },
  {
   "cell_type": "code",
   "execution_count": 2,
   "metadata": {},
   "outputs": [
    {
     "data": {
      "text/html": [
       "<div>4</div>"
      ]
     },
     "execution_count": 2,
     "metadata": {},
     "output_type": "execute_result"
    }
   ],
   "source": [
    "d = 4"
   ]
  },
  {
   "cell_type": "code",
   "execution_count": 3,
   "metadata": {},
   "outputs": [
    {
     "data": {
      "text/html": [
       "<script> \n",
       " var salixApp0 = new Salix('salixApp0', 'http://localhost:3438'); \n",
       " google.charts.load('current', {'packages':['corechart']}); google.charts.setOnLoadCallback(function () { registerCharts(salixApp0);\n",
       " registerDagre(salixApp0);\n",
       " registerTreeView(salixApp0); \n",
       "salixApp0.start();});\n",
       " </script> \n",
       " <div id=\"salixApp0\"> \n",
       " </div>"
      ]
     },
     "execution_count": 3,
     "metadata": {},
     "output_type": "execute_result"
    }
   ],
   "source": [
    "show c + d + 3"
   ]
  },
  {
   "cell_type": "code",
   "execution_count": null,
   "metadata": {},
   "outputs": [],
   "source": []
  }
 ],
 "metadata": {
  "kernelspec": {
   "display_name": "CalcPluginFinal",
   "language": "CalcPluginFinal",
   "name": "calcpluginfinal"
  },
  "language_info": {
   "codemirror_mode": {
    "name": "CalcPluginFinal"
   },
   "file_extension": ".rsc",
   "mimetype": "text/x-rascal",
   "name": "Rascal",
   "version": "1.8.0_77"
  }
 },
 "nbformat": 4,
 "nbformat_minor": 2
}
